{
 "cells": [
  {
   "cell_type": "markdown",
   "metadata": {},
   "source": [
    "# Starbucks Capstone Challenge\n",
    "\n",
    "## Project Overview\n",
    "\n",
    "### Introduction\n",
    "\n",
    "This data set contains simulated data that mimics customer behavior on the Starbucks rewards mobile app. Once every few days, Starbucks sends out an offer to users of the mobile app. An offer can be merely an advertisement for a drink or an actual offer such as a discount or BOGO (buy one get one free). Some users might not receive any offer during certain weeks. \n",
    "\n",
    "Not all users receive the same offer, and that is the challenge to solve with this data set.\n",
    "\n",
    "Your task is to combine transaction, demographic and offer data to determine which demographic groups respond best to which offer type. This data set is a simplified version of the real Starbucks app because the underlying simulator only has one product whereas Starbucks actually sells dozens of products.\n",
    "\n",
    "Every offer has a validity period before the offer expires. As an example, a BOGO offer might be valid for only 5 days. You'll see in the data set that informational offers have a validity period even though these ads are merely providing information about a product; for example, if an informational offer has 7 days of validity, you can assume the customer is feeling the influence of the offer for 7 days after receiving the advertisement.\n",
    "\n",
    "You'll be given transactional data showing user purchases made on the app including the timestamp of purchase and the amount of money spent on a purchase. This transactional data also has a record for each offer that a user receives as well as a record for when a user actually views the offer. There are also records for when a user completes an offer. \n",
    "\n",
    "Keep in mind as well that someone using the app might make a purchase through the app without having received an offer or seen an offer.\n",
    "\n",
    "### Example\n",
    "\n",
    "To give an example, a user could receive a discount offer buy 10 dollars get 2 off on Monday. The offer is valid for 10 days from receipt. If the customer accumulates at least 10 dollars in purchases during the validity period, the customer completes the offer.\n",
    "\n",
    "However, there are a few things to watch out for in this data set. Customers do not opt into the offers that they receive; in other words, a user can receive an offer, never actually view the offer, and still complete the offer. For example, a user might receive the \"buy 10 dollars get 2 dollars off offer\", but the user never opens the offer during the 10 day validity period. The customer spends 15 dollars during those ten days. There will be an offer completion record in the data set; however, the customer was not influenced by the offer because the customer never viewed the offer.\n",
    "\n",
    "### Cleaning\n",
    "\n",
    "This makes data cleaning especially important and tricky.\n",
    "\n",
    "You'll also want to take into account that some demographic groups will make purchases even if they don't receive an offer. From a business perspective, if a customer is going to make a 10 dollar purchase without an offer anyway, you wouldn't want to send a buy 10 dollars get 2 dollars off offer. You'll want to try to assess what a certain demographic group will buy when not receiving any offers.\n",
    "\n",
    "### Final Advice\n",
    "\n",
    "Because this is a capstone project, you are free to analyze the data any way you see fit. For example, you could build a machine learning model that predicts how much someone will spend based on demographics and offer type. Or you could build a model that predicts whether or not someone will respond to an offer. Or, you don't need to build a machine learning model at all. You could develop a set of heuristics that determine what offer you should send to each customer (i.e., 75 percent of women customers who were 35 years old responded to offer A vs 40 percent from the same demographic to offer B, so send offer A)."
   ]
  },
  {
   "cell_type": "markdown",
   "metadata": {},
   "source": [
    "# Data Sets\n",
    "\n",
    "The data is contained in three files:\n",
    "\n",
    "* portfolio.json - containing offer ids and meta data about each offer (duration, type, etc.)\n",
    "* profile.json - demographic data for each customer\n",
    "* transcript.json - records for transactions, offers received, offers viewed, and offers completed\n",
    "\n",
    "Here is the schema and explanation of each variable in the files:\n",
    "\n",
    "**portfolio.json**\n",
    "* id (string) - offer id\n",
    "* offer_type (string) - type of offer ie BOGO, discount, informational\n",
    "* difficulty (int) - minimum required spend to complete an offer\n",
    "* reward (int) - reward given for completing an offer\n",
    "* duration (int) - time for offer to be open, in days\n",
    "* channels (list of strings)\n",
    "\n",
    "**profile.json**\n",
    "* age (int) - age of the customer \n",
    "* became_member_on (int) - date when customer created an app account\n",
    "* gender (str) - gender of the customer (note some entries contain 'O' for other rather than M or F)\n",
    "* id (str) - customer id\n",
    "* income (float) - customer's income\n",
    "\n",
    "**transcript.json**\n",
    "* event (str) - record description (ie transaction, offer received, offer viewed, etc.)\n",
    "* person (str) - customer id\n",
    "* time (int) - time in hours since start of test. The data begins at time t=0\n",
    "* value - (dict of strings) - either an offer id or transaction amount depending on the record\n",
    "\n",
    "**Note:** If you are using the workspace, you will need to go to the terminal and run the command `conda update pandas` before reading in the files. This is because the version of pandas in the workspace cannot read in the transcript.json file correctly, but the newest version of pandas can. You can access the termnal from the orange icon in the top left of this notebook.  \n",
    "\n"
   ]
  },
  {
   "cell_type": "markdown",
   "metadata": {},
   "source": [
    "# I am  Interested to work on below\n",
    "- Get insight on customer expenditure based on Gender , Income and age.\n",
    "- Identify most successful offer\n",
    "- Build ML Model to predict if an offer is going to be successful based on customer profile."
   ]
  },
  {
   "cell_type": "code",
   "execution_count": 1,
   "metadata": {},
   "outputs": [],
   "source": [
    "import pandas as pd\n",
    "import numpy as np\n",
    "import math\n",
    "import json\n",
    "import matplotlib.pyplot as plt\n",
    "\n",
    "import itertools\n",
    "\n",
    "%matplotlib inline\n",
    "\n",
    "import seaborn as sns\n",
    "sns.set(style = 'whitegrid')\n",
    "\n",
    "\n",
    "import datetime\n",
    "\n",
    "from sklearn import preprocessing\n",
    "from sklearn.model_selection import train_test_split, GridSearchCV, RandomizedSearchCV,cross_val_score, learning_curve\n",
    "from sklearn.ensemble import RandomForestClassifier, AdaBoostClassifier, GradientBoostingClassifier\n",
    "from sklearn.metrics import accuracy_score, classification_report, confusion_matrix, roc_auc_score"
   ]
  },
  {
   "cell_type": "code",
   "execution_count": 2,
   "metadata": {},
   "outputs": [],
   "source": [
    "# read in the json files\n",
    "portfolio = pd.read_json('/home/bambar/Nano Degree/Starbucks_Project/data/portfolio.json', orient='records', lines=True)\n",
    "profile = pd.read_json('/home/bambar/Nano Degree/Starbucks_Project/data/profile.json', orient='records', lines=True)\n",
    "transcript = pd.read_json('/home/bambar/Nano Degree/Starbucks_Project/data/transcript.json', orient='records', lines=True)"
   ]
  },
  {
   "cell_type": "markdown",
   "metadata": {},
   "source": [
    "# EDA"
   ]
  },
  {
   "cell_type": "code",
   "execution_count": 3,
   "metadata": {},
   "outputs": [],
   "source": [
    "def plot_bar(data, title, xlabel, ylabel, figsize=(10,5)):\n",
    "    \"\"\"\n",
    "        This functions plots the bar plot \n",
    "        Args:\n",
    "            data: pd.Series \n",
    "        Returns:\n",
    "            None\n",
    "    \"\"\"\n",
    "    ax = data.plot.bar(figsize=figsize);\n",
    "    ax.set_title(title);\n",
    "    ax.set_xlabel(xlabel);\n",
    "    ax.set_ylabel(ylabel);\n",
    "    # add annoation to\n",
    "    for p in ax.patches:\n",
    "        ax.annotate('{:.1%}'.format(p.get_height()), (p.get_x() * 1.003, p.get_height() * 1.005), size=8)"
   ]
  },
  {
   "cell_type": "markdown",
   "metadata": {},
   "source": [
    "### Portfolio data \n",
    "- This is Offer Libary that contain Offers type , qualification criteria and Offer Validity"
   ]
  },
  {
   "cell_type": "code",
   "execution_count": 4,
   "metadata": {},
   "outputs": [
    {
     "data": {
      "text/html": [
       "<div>\n",
       "<style scoped>\n",
       "    .dataframe tbody tr th:only-of-type {\n",
       "        vertical-align: middle;\n",
       "    }\n",
       "\n",
       "    .dataframe tbody tr th {\n",
       "        vertical-align: top;\n",
       "    }\n",
       "\n",
       "    .dataframe thead th {\n",
       "        text-align: right;\n",
       "    }\n",
       "</style>\n",
       "<table border=\"1\" class=\"dataframe\">\n",
       "  <thead>\n",
       "    <tr style=\"text-align: right;\">\n",
       "      <th></th>\n",
       "      <th>reward</th>\n",
       "      <th>channels</th>\n",
       "      <th>difficulty</th>\n",
       "      <th>duration</th>\n",
       "      <th>offer_type</th>\n",
       "      <th>id</th>\n",
       "    </tr>\n",
       "  </thead>\n",
       "  <tbody>\n",
       "    <tr>\n",
       "      <th>0</th>\n",
       "      <td>10</td>\n",
       "      <td>[email, mobile, social]</td>\n",
       "      <td>10</td>\n",
       "      <td>7</td>\n",
       "      <td>bogo</td>\n",
       "      <td>ae264e3637204a6fb9bb56bc8210ddfd</td>\n",
       "    </tr>\n",
       "    <tr>\n",
       "      <th>1</th>\n",
       "      <td>10</td>\n",
       "      <td>[web, email, mobile, social]</td>\n",
       "      <td>10</td>\n",
       "      <td>5</td>\n",
       "      <td>bogo</td>\n",
       "      <td>4d5c57ea9a6940dd891ad53e9dbe8da0</td>\n",
       "    </tr>\n",
       "    <tr>\n",
       "      <th>2</th>\n",
       "      <td>0</td>\n",
       "      <td>[web, email, mobile]</td>\n",
       "      <td>0</td>\n",
       "      <td>4</td>\n",
       "      <td>informational</td>\n",
       "      <td>3f207df678b143eea3cee63160fa8bed</td>\n",
       "    </tr>\n",
       "    <tr>\n",
       "      <th>3</th>\n",
       "      <td>5</td>\n",
       "      <td>[web, email, mobile]</td>\n",
       "      <td>5</td>\n",
       "      <td>7</td>\n",
       "      <td>bogo</td>\n",
       "      <td>9b98b8c7a33c4b65b9aebfe6a799e6d9</td>\n",
       "    </tr>\n",
       "    <tr>\n",
       "      <th>4</th>\n",
       "      <td>5</td>\n",
       "      <td>[web, email]</td>\n",
       "      <td>20</td>\n",
       "      <td>10</td>\n",
       "      <td>discount</td>\n",
       "      <td>0b1e1539f2cc45b7b9fa7c272da2e1d7</td>\n",
       "    </tr>\n",
       "    <tr>\n",
       "      <th>5</th>\n",
       "      <td>3</td>\n",
       "      <td>[web, email, mobile, social]</td>\n",
       "      <td>7</td>\n",
       "      <td>7</td>\n",
       "      <td>discount</td>\n",
       "      <td>2298d6c36e964ae4a3e7e9706d1fb8c2</td>\n",
       "    </tr>\n",
       "    <tr>\n",
       "      <th>6</th>\n",
       "      <td>2</td>\n",
       "      <td>[web, email, mobile, social]</td>\n",
       "      <td>10</td>\n",
       "      <td>10</td>\n",
       "      <td>discount</td>\n",
       "      <td>fafdcd668e3743c1bb461111dcafc2a4</td>\n",
       "    </tr>\n",
       "    <tr>\n",
       "      <th>7</th>\n",
       "      <td>0</td>\n",
       "      <td>[email, mobile, social]</td>\n",
       "      <td>0</td>\n",
       "      <td>3</td>\n",
       "      <td>informational</td>\n",
       "      <td>5a8bc65990b245e5a138643cd4eb9837</td>\n",
       "    </tr>\n",
       "    <tr>\n",
       "      <th>8</th>\n",
       "      <td>5</td>\n",
       "      <td>[web, email, mobile, social]</td>\n",
       "      <td>5</td>\n",
       "      <td>5</td>\n",
       "      <td>bogo</td>\n",
       "      <td>f19421c1d4aa40978ebb69ca19b0e20d</td>\n",
       "    </tr>\n",
       "    <tr>\n",
       "      <th>9</th>\n",
       "      <td>2</td>\n",
       "      <td>[web, email, mobile]</td>\n",
       "      <td>10</td>\n",
       "      <td>7</td>\n",
       "      <td>discount</td>\n",
       "      <td>2906b810c7d4411798c6938adc9daaa5</td>\n",
       "    </tr>\n",
       "  </tbody>\n",
       "</table>\n",
       "</div>"
      ],
      "text/plain": [
       "   reward                      channels  difficulty  duration     offer_type  \\\n",
       "0      10       [email, mobile, social]          10         7           bogo   \n",
       "1      10  [web, email, mobile, social]          10         5           bogo   \n",
       "2       0          [web, email, mobile]           0         4  informational   \n",
       "3       5          [web, email, mobile]           5         7           bogo   \n",
       "4       5                  [web, email]          20        10       discount   \n",
       "5       3  [web, email, mobile, social]           7         7       discount   \n",
       "6       2  [web, email, mobile, social]          10        10       discount   \n",
       "7       0       [email, mobile, social]           0         3  informational   \n",
       "8       5  [web, email, mobile, social]           5         5           bogo   \n",
       "9       2          [web, email, mobile]          10         7       discount   \n",
       "\n",
       "                                 id  \n",
       "0  ae264e3637204a6fb9bb56bc8210ddfd  \n",
       "1  4d5c57ea9a6940dd891ad53e9dbe8da0  \n",
       "2  3f207df678b143eea3cee63160fa8bed  \n",
       "3  9b98b8c7a33c4b65b9aebfe6a799e6d9  \n",
       "4  0b1e1539f2cc45b7b9fa7c272da2e1d7  \n",
       "5  2298d6c36e964ae4a3e7e9706d1fb8c2  \n",
       "6  fafdcd668e3743c1bb461111dcafc2a4  \n",
       "7  5a8bc65990b245e5a138643cd4eb9837  \n",
       "8  f19421c1d4aa40978ebb69ca19b0e20d  \n",
       "9  2906b810c7d4411798c6938adc9daaa5  "
      ]
     },
     "execution_count": 4,
     "metadata": {},
     "output_type": "execute_result"
    }
   ],
   "source": [
    "portfolio"
   ]
  },
  {
   "cell_type": "code",
   "execution_count": 5,
   "metadata": {},
   "outputs": [
    {
     "data": {
      "text/plain": [
       "bogo             4\n",
       "discount         4\n",
       "informational    2\n",
       "Name: offer_type, dtype: int64"
      ]
     },
     "execution_count": 5,
     "metadata": {},
     "output_type": "execute_result"
    }
   ],
   "source": [
    "portfolio.offer_type.value_counts()"
   ]
  },
  {
   "cell_type": "code",
   "execution_count": 6,
   "metadata": {},
   "outputs": [
    {
     "data": {
      "text/html": [
       "<div>\n",
       "<style scoped>\n",
       "    .dataframe tbody tr th:only-of-type {\n",
       "        vertical-align: middle;\n",
       "    }\n",
       "\n",
       "    .dataframe tbody tr th {\n",
       "        vertical-align: top;\n",
       "    }\n",
       "\n",
       "    .dataframe thead th {\n",
       "        text-align: right;\n",
       "    }\n",
       "</style>\n",
       "<table border=\"1\" class=\"dataframe\">\n",
       "  <thead>\n",
       "    <tr style=\"text-align: right;\">\n",
       "      <th></th>\n",
       "      <th>reward</th>\n",
       "      <th>difficulty</th>\n",
       "      <th>duration</th>\n",
       "      <th>offer_type</th>\n",
       "      <th>offer_id</th>\n",
       "      <th>email</th>\n",
       "      <th>social</th>\n",
       "      <th>web</th>\n",
       "      <th>mobile</th>\n",
       "      <th>offer</th>\n",
       "      <th>bogo</th>\n",
       "      <th>discount</th>\n",
       "      <th>informational</th>\n",
       "    </tr>\n",
       "  </thead>\n",
       "  <tbody>\n",
       "    <tr>\n",
       "      <th>0</th>\n",
       "      <td>10</td>\n",
       "      <td>10</td>\n",
       "      <td>7</td>\n",
       "      <td>bogo</td>\n",
       "      <td>ae264e3637204a6fb9bb56bc8210ddfd</td>\n",
       "      <td>1</td>\n",
       "      <td>1</td>\n",
       "      <td>0</td>\n",
       "      <td>1</td>\n",
       "      <td>bogo_10_for_10_in_7days</td>\n",
       "      <td>1</td>\n",
       "      <td>0</td>\n",
       "      <td>0</td>\n",
       "    </tr>\n",
       "    <tr>\n",
       "      <th>1</th>\n",
       "      <td>10</td>\n",
       "      <td>10</td>\n",
       "      <td>5</td>\n",
       "      <td>bogo</td>\n",
       "      <td>4d5c57ea9a6940dd891ad53e9dbe8da0</td>\n",
       "      <td>1</td>\n",
       "      <td>1</td>\n",
       "      <td>1</td>\n",
       "      <td>1</td>\n",
       "      <td>bogo_10_for_10_in_5days</td>\n",
       "      <td>1</td>\n",
       "      <td>0</td>\n",
       "      <td>0</td>\n",
       "    </tr>\n",
       "    <tr>\n",
       "      <th>2</th>\n",
       "      <td>0</td>\n",
       "      <td>0</td>\n",
       "      <td>4</td>\n",
       "      <td>informational</td>\n",
       "      <td>3f207df678b143eea3cee63160fa8bed</td>\n",
       "      <td>1</td>\n",
       "      <td>0</td>\n",
       "      <td>1</td>\n",
       "      <td>1</td>\n",
       "      <td>informational_0_for_0_in_4days</td>\n",
       "      <td>0</td>\n",
       "      <td>0</td>\n",
       "      <td>1</td>\n",
       "    </tr>\n",
       "    <tr>\n",
       "      <th>3</th>\n",
       "      <td>5</td>\n",
       "      <td>5</td>\n",
       "      <td>7</td>\n",
       "      <td>bogo</td>\n",
       "      <td>9b98b8c7a33c4b65b9aebfe6a799e6d9</td>\n",
       "      <td>1</td>\n",
       "      <td>0</td>\n",
       "      <td>1</td>\n",
       "      <td>1</td>\n",
       "      <td>bogo_5_for_5_in_7days</td>\n",
       "      <td>1</td>\n",
       "      <td>0</td>\n",
       "      <td>0</td>\n",
       "    </tr>\n",
       "    <tr>\n",
       "      <th>4</th>\n",
       "      <td>5</td>\n",
       "      <td>20</td>\n",
       "      <td>10</td>\n",
       "      <td>discount</td>\n",
       "      <td>0b1e1539f2cc45b7b9fa7c272da2e1d7</td>\n",
       "      <td>1</td>\n",
       "      <td>0</td>\n",
       "      <td>1</td>\n",
       "      <td>0</td>\n",
       "      <td>discount_5_for_20_in_10days</td>\n",
       "      <td>0</td>\n",
       "      <td>1</td>\n",
       "      <td>0</td>\n",
       "    </tr>\n",
       "  </tbody>\n",
       "</table>\n",
       "</div>"
      ],
      "text/plain": [
       "   reward  difficulty  duration     offer_type  \\\n",
       "0      10          10         7           bogo   \n",
       "1      10          10         5           bogo   \n",
       "2       0           0         4  informational   \n",
       "3       5           5         7           bogo   \n",
       "4       5          20        10       discount   \n",
       "\n",
       "                           offer_id  email  social  web  mobile  \\\n",
       "0  ae264e3637204a6fb9bb56bc8210ddfd      1       1    0       1   \n",
       "1  4d5c57ea9a6940dd891ad53e9dbe8da0      1       1    1       1   \n",
       "2  3f207df678b143eea3cee63160fa8bed      1       0    1       1   \n",
       "3  9b98b8c7a33c4b65b9aebfe6a799e6d9      1       0    1       1   \n",
       "4  0b1e1539f2cc45b7b9fa7c272da2e1d7      1       0    1       0   \n",
       "\n",
       "                            offer  bogo  discount  informational  \n",
       "0         bogo_10_for_10_in_7days     1         0              0  \n",
       "1         bogo_10_for_10_in_5days     1         0              0  \n",
       "2  informational_0_for_0_in_4days     0         0              1  \n",
       "3           bogo_5_for_5_in_7days     1         0              0  \n",
       "4     discount_5_for_20_in_10days     0         1              0  "
      ]
     },
     "execution_count": 6,
     "metadata": {},
     "output_type": "execute_result"
    }
   ],
   "source": [
    "\"\"\"Portfolio/Offer Libray has 1O Offers\n",
    "\n",
    "Modification needed to use the Library well\n",
    "- Create dummies for the channels used to communicate offers and Drop Channel column\n",
    "- Create dummies on the offer_type\n",
    "\"\"\"\n",
    "\n",
    "# Get Unique Channels\n",
    "channels_unique = list(set(itertools.chain(*portfolio.channels.tolist())))\n",
    "\n",
    "for channel in channels_unique:\n",
    "    portfolio[channel] = portfolio.channels.apply(lambda x:1 if channel in x else 0 )\n",
    "\n",
    "#Create Unique Offers\n",
    "portfolio['offer'] = (portfolio['offer_type'] + \"_\" + portfolio['reward'].astype('str')\n",
    "                          + \"_for_\" + portfolio['difficulty'].astype('str') + \"_in_\"\n",
    "                          + portfolio['duration'].astype('str') + \"days\")\n",
    "                          \n",
    "# drop the channels columns \n",
    "portfolio.drop(['channels'], axis=1, inplace=True)\n",
    "\n",
    "# update column name id to offer_id\n",
    "portfolio.rename(columns={'id':'offer_id'}, inplace=True)\n",
    "\n",
    "# clean offer types\n",
    "offers = pd.get_dummies(portfolio.offer_type)\n",
    "portfolio = pd.concat([portfolio, offers], axis=1)\n",
    "\n",
    "portfolio.head()"
   ]
  },
  {
   "cell_type": "markdown",
   "metadata": {},
   "source": [
    "### Profile data\n",
    "\n",
    "- This has customer information"
   ]
  },
  {
   "cell_type": "code",
   "execution_count": 7,
   "metadata": {},
   "outputs": [
    {
     "data": {
      "text/html": [
       "<div>\n",
       "<style scoped>\n",
       "    .dataframe tbody tr th:only-of-type {\n",
       "        vertical-align: middle;\n",
       "    }\n",
       "\n",
       "    .dataframe tbody tr th {\n",
       "        vertical-align: top;\n",
       "    }\n",
       "\n",
       "    .dataframe thead th {\n",
       "        text-align: right;\n",
       "    }\n",
       "</style>\n",
       "<table border=\"1\" class=\"dataframe\">\n",
       "  <thead>\n",
       "    <tr style=\"text-align: right;\">\n",
       "      <th></th>\n",
       "      <th>gender</th>\n",
       "      <th>age</th>\n",
       "      <th>id</th>\n",
       "      <th>became_member_on</th>\n",
       "      <th>income</th>\n",
       "    </tr>\n",
       "  </thead>\n",
       "  <tbody>\n",
       "    <tr>\n",
       "      <th>0</th>\n",
       "      <td>None</td>\n",
       "      <td>118</td>\n",
       "      <td>68be06ca386d4c31939f3a4f0e3dd783</td>\n",
       "      <td>20170212</td>\n",
       "      <td>NaN</td>\n",
       "    </tr>\n",
       "    <tr>\n",
       "      <th>1</th>\n",
       "      <td>F</td>\n",
       "      <td>55</td>\n",
       "      <td>0610b486422d4921ae7d2bf64640c50b</td>\n",
       "      <td>20170715</td>\n",
       "      <td>112000.0</td>\n",
       "    </tr>\n",
       "    <tr>\n",
       "      <th>2</th>\n",
       "      <td>None</td>\n",
       "      <td>118</td>\n",
       "      <td>38fe809add3b4fcf9315a9694bb96ff5</td>\n",
       "      <td>20180712</td>\n",
       "      <td>NaN</td>\n",
       "    </tr>\n",
       "    <tr>\n",
       "      <th>3</th>\n",
       "      <td>F</td>\n",
       "      <td>75</td>\n",
       "      <td>78afa995795e4d85b5d9ceeca43f5fef</td>\n",
       "      <td>20170509</td>\n",
       "      <td>100000.0</td>\n",
       "    </tr>\n",
       "    <tr>\n",
       "      <th>4</th>\n",
       "      <td>None</td>\n",
       "      <td>118</td>\n",
       "      <td>a03223e636434f42ac4c3df47e8bac43</td>\n",
       "      <td>20170804</td>\n",
       "      <td>NaN</td>\n",
       "    </tr>\n",
       "    <tr>\n",
       "      <th>5</th>\n",
       "      <td>M</td>\n",
       "      <td>68</td>\n",
       "      <td>e2127556f4f64592b11af22de27a7932</td>\n",
       "      <td>20180426</td>\n",
       "      <td>70000.0</td>\n",
       "    </tr>\n",
       "    <tr>\n",
       "      <th>6</th>\n",
       "      <td>None</td>\n",
       "      <td>118</td>\n",
       "      <td>8ec6ce2a7e7949b1bf142def7d0e0586</td>\n",
       "      <td>20170925</td>\n",
       "      <td>NaN</td>\n",
       "    </tr>\n",
       "  </tbody>\n",
       "</table>\n",
       "</div>"
      ],
      "text/plain": [
       "  gender  age                                id  became_member_on    income\n",
       "0   None  118  68be06ca386d4c31939f3a4f0e3dd783          20170212       NaN\n",
       "1      F   55  0610b486422d4921ae7d2bf64640c50b          20170715  112000.0\n",
       "2   None  118  38fe809add3b4fcf9315a9694bb96ff5          20180712       NaN\n",
       "3      F   75  78afa995795e4d85b5d9ceeca43f5fef          20170509  100000.0\n",
       "4   None  118  a03223e636434f42ac4c3df47e8bac43          20170804       NaN\n",
       "5      M   68  e2127556f4f64592b11af22de27a7932          20180426   70000.0\n",
       "6   None  118  8ec6ce2a7e7949b1bf142def7d0e0586          20170925       NaN"
      ]
     },
     "execution_count": 7,
     "metadata": {},
     "output_type": "execute_result"
    }
   ],
   "source": [
    "profile.head(7)"
   ]
  },
  {
   "cell_type": "markdown",
   "metadata": {},
   "source": [
    "I am performing following process to clean profile data:\n",
    "\n",
    "\n",
    "1. Check how many data entries are missing values\n",
    "2. Check the customers' gender and income values for missing values\n",
    "3. Create a datetime format for became_member_on column data\n",
    "4. Find the total number of days a customer has been a member, assigned to membership_Tenure column\n",
    "5. Rename the column id to customer_id and reindex columns_order\n"
   ]
  },
  {
   "cell_type": "code",
   "execution_count": 8,
   "metadata": {},
   "outputs": [
    {
     "data": {
      "text/html": [
       "<div>\n",
       "<style scoped>\n",
       "    .dataframe tbody tr th:only-of-type {\n",
       "        vertical-align: middle;\n",
       "    }\n",
       "\n",
       "    .dataframe tbody tr th {\n",
       "        vertical-align: top;\n",
       "    }\n",
       "\n",
       "    .dataframe thead th {\n",
       "        text-align: right;\n",
       "    }\n",
       "</style>\n",
       "<table border=\"1\" class=\"dataframe\">\n",
       "  <thead>\n",
       "    <tr style=\"text-align: right;\">\n",
       "      <th></th>\n",
       "      <th>gender</th>\n",
       "      <th>age</th>\n",
       "      <th>id</th>\n",
       "      <th>became_member_on</th>\n",
       "      <th>income</th>\n",
       "    </tr>\n",
       "  </thead>\n",
       "  <tbody>\n",
       "  </tbody>\n",
       "</table>\n",
       "</div>"
      ],
      "text/plain": [
       "Empty DataFrame\n",
       "Columns: [gender, age, id, became_member_on, income]\n",
       "Index: []"
      ]
     },
     "execution_count": 8,
     "metadata": {},
     "output_type": "execute_result"
    }
   ],
   "source": [
    "# check duplicated cutomers\n",
    "profile[profile.id.duplicated()]"
   ]
  },
  {
   "cell_type": "code",
   "execution_count": 9,
   "metadata": {},
   "outputs": [
    {
     "name": "stdout",
     "output_type": "stream",
     "text": [
      "<class 'pandas.core.frame.DataFrame'>\n",
      "RangeIndex: 17000 entries, 0 to 16999\n",
      "Data columns (total 5 columns):\n",
      " #   Column            Non-Null Count  Dtype  \n",
      "---  ------            --------------  -----  \n",
      " 0   gender            14825 non-null  object \n",
      " 1   age               17000 non-null  int64  \n",
      " 2   id                17000 non-null  object \n",
      " 3   became_member_on  17000 non-null  int64  \n",
      " 4   income            14825 non-null  float64\n",
      "dtypes: float64(1), int64(2), object(2)\n",
      "memory usage: 664.2+ KB\n"
     ]
    }
   ],
   "source": [
    "profile.info()"
   ]
  },
  {
   "cell_type": "code",
   "execution_count": 10,
   "metadata": {},
   "outputs": [
    {
     "data": {
      "text/html": [
       "<div>\n",
       "<style scoped>\n",
       "    .dataframe tbody tr th:only-of-type {\n",
       "        vertical-align: middle;\n",
       "    }\n",
       "\n",
       "    .dataframe tbody tr th {\n",
       "        vertical-align: top;\n",
       "    }\n",
       "\n",
       "    .dataframe thead th {\n",
       "        text-align: right;\n",
       "    }\n",
       "</style>\n",
       "<table border=\"1\" class=\"dataframe\">\n",
       "  <thead>\n",
       "    <tr style=\"text-align: right;\">\n",
       "      <th></th>\n",
       "      <th>age</th>\n",
       "      <th>became_member_on</th>\n",
       "      <th>income</th>\n",
       "    </tr>\n",
       "  </thead>\n",
       "  <tbody>\n",
       "    <tr>\n",
       "      <th>count</th>\n",
       "      <td>17000.000000</td>\n",
       "      <td>1.700000e+04</td>\n",
       "      <td>14825.000000</td>\n",
       "    </tr>\n",
       "    <tr>\n",
       "      <th>mean</th>\n",
       "      <td>62.531412</td>\n",
       "      <td>2.016703e+07</td>\n",
       "      <td>65404.991568</td>\n",
       "    </tr>\n",
       "    <tr>\n",
       "      <th>std</th>\n",
       "      <td>26.738580</td>\n",
       "      <td>1.167750e+04</td>\n",
       "      <td>21598.299410</td>\n",
       "    </tr>\n",
       "    <tr>\n",
       "      <th>min</th>\n",
       "      <td>18.000000</td>\n",
       "      <td>2.013073e+07</td>\n",
       "      <td>30000.000000</td>\n",
       "    </tr>\n",
       "    <tr>\n",
       "      <th>25%</th>\n",
       "      <td>45.000000</td>\n",
       "      <td>2.016053e+07</td>\n",
       "      <td>49000.000000</td>\n",
       "    </tr>\n",
       "    <tr>\n",
       "      <th>50%</th>\n",
       "      <td>58.000000</td>\n",
       "      <td>2.017080e+07</td>\n",
       "      <td>64000.000000</td>\n",
       "    </tr>\n",
       "    <tr>\n",
       "      <th>75%</th>\n",
       "      <td>73.000000</td>\n",
       "      <td>2.017123e+07</td>\n",
       "      <td>80000.000000</td>\n",
       "    </tr>\n",
       "    <tr>\n",
       "      <th>max</th>\n",
       "      <td>118.000000</td>\n",
       "      <td>2.018073e+07</td>\n",
       "      <td>120000.000000</td>\n",
       "    </tr>\n",
       "  </tbody>\n",
       "</table>\n",
       "</div>"
      ],
      "text/plain": [
       "                age  became_member_on         income\n",
       "count  17000.000000      1.700000e+04   14825.000000\n",
       "mean      62.531412      2.016703e+07   65404.991568\n",
       "std       26.738580      1.167750e+04   21598.299410\n",
       "min       18.000000      2.013073e+07   30000.000000\n",
       "25%       45.000000      2.016053e+07   49000.000000\n",
       "50%       58.000000      2.017080e+07   64000.000000\n",
       "75%       73.000000      2.017123e+07   80000.000000\n",
       "max      118.000000      2.018073e+07  120000.000000"
      ]
     },
     "execution_count": 10,
     "metadata": {},
     "output_type": "execute_result"
    }
   ],
   "source": [
    "profile.describe()"
   ]
  },
  {
   "cell_type": "code",
   "execution_count": 11,
   "metadata": {},
   "outputs": [
    {
     "data": {
      "text/plain": [
       "gender              13.0\n",
       "age                  0.0\n",
       "id                   0.0\n",
       "became_member_on     0.0\n",
       "income              13.0\n",
       "dtype: float64"
      ]
     },
     "execution_count": 11,
     "metadata": {},
     "output_type": "execute_result"
    }
   ],
   "source": [
    "#Check Nulls\n",
    "round((profile.isna().sum()/profile.shape[0])*100,0)"
   ]
  },
  {
   "cell_type": "code",
   "execution_count": 12,
   "metadata": {},
   "outputs": [
    {
     "data": {
      "text/html": [
       "<div>\n",
       "<style scoped>\n",
       "    .dataframe tbody tr th:only-of-type {\n",
       "        vertical-align: middle;\n",
       "    }\n",
       "\n",
       "    .dataframe tbody tr th {\n",
       "        vertical-align: top;\n",
       "    }\n",
       "\n",
       "    .dataframe thead th {\n",
       "        text-align: right;\n",
       "    }\n",
       "</style>\n",
       "<table border=\"1\" class=\"dataframe\">\n",
       "  <thead>\n",
       "    <tr style=\"text-align: right;\">\n",
       "      <th></th>\n",
       "      <th>gender</th>\n",
       "      <th>age</th>\n",
       "      <th>id</th>\n",
       "      <th>became_member_on</th>\n",
       "      <th>income</th>\n",
       "    </tr>\n",
       "  </thead>\n",
       "  <tbody>\n",
       "    <tr>\n",
       "      <th>0</th>\n",
       "      <td>None</td>\n",
       "      <td>118</td>\n",
       "      <td>68be06ca386d4c31939f3a4f0e3dd783</td>\n",
       "      <td>20170212</td>\n",
       "      <td>NaN</td>\n",
       "    </tr>\n",
       "    <tr>\n",
       "      <th>2</th>\n",
       "      <td>None</td>\n",
       "      <td>118</td>\n",
       "      <td>38fe809add3b4fcf9315a9694bb96ff5</td>\n",
       "      <td>20180712</td>\n",
       "      <td>NaN</td>\n",
       "    </tr>\n",
       "    <tr>\n",
       "      <th>4</th>\n",
       "      <td>None</td>\n",
       "      <td>118</td>\n",
       "      <td>a03223e636434f42ac4c3df47e8bac43</td>\n",
       "      <td>20170804</td>\n",
       "      <td>NaN</td>\n",
       "    </tr>\n",
       "    <tr>\n",
       "      <th>6</th>\n",
       "      <td>None</td>\n",
       "      <td>118</td>\n",
       "      <td>8ec6ce2a7e7949b1bf142def7d0e0586</td>\n",
       "      <td>20170925</td>\n",
       "      <td>NaN</td>\n",
       "    </tr>\n",
       "    <tr>\n",
       "      <th>7</th>\n",
       "      <td>None</td>\n",
       "      <td>118</td>\n",
       "      <td>68617ca6246f4fbc85e91a2a49552598</td>\n",
       "      <td>20171002</td>\n",
       "      <td>NaN</td>\n",
       "    </tr>\n",
       "    <tr>\n",
       "      <th>9</th>\n",
       "      <td>None</td>\n",
       "      <td>118</td>\n",
       "      <td>8974fc5686fe429db53ddde067b88302</td>\n",
       "      <td>20161122</td>\n",
       "      <td>NaN</td>\n",
       "    </tr>\n",
       "    <tr>\n",
       "      <th>10</th>\n",
       "      <td>None</td>\n",
       "      <td>118</td>\n",
       "      <td>c4863c7985cf408faee930f111475da3</td>\n",
       "      <td>20170824</td>\n",
       "      <td>NaN</td>\n",
       "    </tr>\n",
       "  </tbody>\n",
       "</table>\n",
       "</div>"
      ],
      "text/plain": [
       "   gender  age                                id  became_member_on  income\n",
       "0    None  118  68be06ca386d4c31939f3a4f0e3dd783          20170212     NaN\n",
       "2    None  118  38fe809add3b4fcf9315a9694bb96ff5          20180712     NaN\n",
       "4    None  118  a03223e636434f42ac4c3df47e8bac43          20170804     NaN\n",
       "6    None  118  8ec6ce2a7e7949b1bf142def7d0e0586          20170925     NaN\n",
       "7    None  118  68617ca6246f4fbc85e91a2a49552598          20171002     NaN\n",
       "9    None  118  8974fc5686fe429db53ddde067b88302          20161122     NaN\n",
       "10   None  118  c4863c7985cf408faee930f111475da3          20170824     NaN"
      ]
     },
     "execution_count": 12,
     "metadata": {},
     "output_type": "execute_result"
    }
   ],
   "source": [
    "#Explore why Gender and income have same % of null\n",
    "(profile[(profile['gender'].isna()) & (profile['income'].isna())]).head(7)"
   ]
  },
  {
   "cell_type": "code",
   "execution_count": 13,
   "metadata": {},
   "outputs": [
    {
     "data": {
      "text/plain": [
       "array([118])"
      ]
     },
     "execution_count": 13,
     "metadata": {},
     "output_type": "execute_result"
    }
   ],
   "source": [
    "\"\"\"Looks like for every 118 Age income is null , confirm by getting Unique Age for every null income \"\"\"\n",
    "profile[((profile.gender.isnull()) & (profile.income.isnull()))].age.unique()"
   ]
  },
  {
   "cell_type": "code",
   "execution_count": 14,
   "metadata": {},
   "outputs": [],
   "source": [
    "\"\"\"Drop null , 13% its ok and also since age and income might be a very important attribute in our prediction will not perfom imputation\n",
    "\"\"\"\n",
    "profile.dropna(inplace=True)"
   ]
  },
  {
   "cell_type": "code",
   "execution_count": 15,
   "metadata": {},
   "outputs": [
    {
     "data": {
      "text/html": [
       "<div>\n",
       "<style scoped>\n",
       "    .dataframe tbody tr th:only-of-type {\n",
       "        vertical-align: middle;\n",
       "    }\n",
       "\n",
       "    .dataframe tbody tr th {\n",
       "        vertical-align: top;\n",
       "    }\n",
       "\n",
       "    .dataframe thead th {\n",
       "        text-align: right;\n",
       "    }\n",
       "</style>\n",
       "<table border=\"1\" class=\"dataframe\">\n",
       "  <thead>\n",
       "    <tr style=\"text-align: right;\">\n",
       "      <th></th>\n",
       "      <th>gender</th>\n",
       "      <th>age</th>\n",
       "      <th>id</th>\n",
       "      <th>became_member_on</th>\n",
       "      <th>income</th>\n",
       "      <th>membership_Tenure</th>\n",
       "    </tr>\n",
       "  </thead>\n",
       "  <tbody>\n",
       "    <tr>\n",
       "      <th>1</th>\n",
       "      <td>F</td>\n",
       "      <td>55</td>\n",
       "      <td>0610b486422d4921ae7d2bf64640c50b</td>\n",
       "      <td>2017-07-15</td>\n",
       "      <td>112000.0</td>\n",
       "      <td>376</td>\n",
       "    </tr>\n",
       "    <tr>\n",
       "      <th>3</th>\n",
       "      <td>F</td>\n",
       "      <td>75</td>\n",
       "      <td>78afa995795e4d85b5d9ceeca43f5fef</td>\n",
       "      <td>2017-05-09</td>\n",
       "      <td>100000.0</td>\n",
       "      <td>443</td>\n",
       "    </tr>\n",
       "    <tr>\n",
       "      <th>5</th>\n",
       "      <td>M</td>\n",
       "      <td>68</td>\n",
       "      <td>e2127556f4f64592b11af22de27a7932</td>\n",
       "      <td>2018-04-26</td>\n",
       "      <td>70000.0</td>\n",
       "      <td>91</td>\n",
       "    </tr>\n",
       "    <tr>\n",
       "      <th>8</th>\n",
       "      <td>M</td>\n",
       "      <td>65</td>\n",
       "      <td>389bc3fa690240e798340f5a15918d5c</td>\n",
       "      <td>2018-02-09</td>\n",
       "      <td>53000.0</td>\n",
       "      <td>167</td>\n",
       "    </tr>\n",
       "    <tr>\n",
       "      <th>12</th>\n",
       "      <td>M</td>\n",
       "      <td>58</td>\n",
       "      <td>2eeac8d8feae4a8cad5a6af0499a211d</td>\n",
       "      <td>2017-11-11</td>\n",
       "      <td>51000.0</td>\n",
       "      <td>257</td>\n",
       "    </tr>\n",
       "    <tr>\n",
       "      <th>13</th>\n",
       "      <td>F</td>\n",
       "      <td>61</td>\n",
       "      <td>aa4862eba776480b8bb9c68455b8c2e1</td>\n",
       "      <td>2017-09-11</td>\n",
       "      <td>57000.0</td>\n",
       "      <td>318</td>\n",
       "    </tr>\n",
       "    <tr>\n",
       "      <th>14</th>\n",
       "      <td>M</td>\n",
       "      <td>26</td>\n",
       "      <td>e12aeaf2d47d42479ea1c4ac3d8286c6</td>\n",
       "      <td>2014-02-13</td>\n",
       "      <td>46000.0</td>\n",
       "      <td>1624</td>\n",
       "    </tr>\n",
       "  </tbody>\n",
       "</table>\n",
       "</div>"
      ],
      "text/plain": [
       "   gender  age                                id became_member_on    income  \\\n",
       "1       F   55  0610b486422d4921ae7d2bf64640c50b       2017-07-15  112000.0   \n",
       "3       F   75  78afa995795e4d85b5d9ceeca43f5fef       2017-05-09  100000.0   \n",
       "5       M   68  e2127556f4f64592b11af22de27a7932       2018-04-26   70000.0   \n",
       "8       M   65  389bc3fa690240e798340f5a15918d5c       2018-02-09   53000.0   \n",
       "12      M   58  2eeac8d8feae4a8cad5a6af0499a211d       2017-11-11   51000.0   \n",
       "13      F   61  aa4862eba776480b8bb9c68455b8c2e1       2017-09-11   57000.0   \n",
       "14      M   26  e12aeaf2d47d42479ea1c4ac3d8286c6       2014-02-13   46000.0   \n",
       "\n",
       "    membership_Tenure  \n",
       "1                 376  \n",
       "3                 443  \n",
       "5                  91  \n",
       "8                 167  \n",
       "12                257  \n",
       "13                318  \n",
       "14               1624  "
      ]
     },
     "execution_count": 15,
     "metadata": {},
     "output_type": "execute_result"
    }
   ],
   "source": [
    "\"\"\"Get Membeship Tenure \"\"\"\n",
    "\n",
    "profile['became_member_on'] = pd.to_datetime(profile['became_member_on'], format='%Y%m%d')\n",
    "Max_date=profile.became_member_on.dt.date.max()\n",
    "profile['membership_Tenure'] =(Max_date- profile['became_member_on'].dt.date).dt.days\n",
    "profile.head(7)"
   ]
  },
  {
   "cell_type": "code",
   "execution_count": 16,
   "metadata": {},
   "outputs": [
    {
     "data": {
      "text/html": [
       "<div>\n",
       "<style scoped>\n",
       "    .dataframe tbody tr th:only-of-type {\n",
       "        vertical-align: middle;\n",
       "    }\n",
       "\n",
       "    .dataframe tbody tr th {\n",
       "        vertical-align: top;\n",
       "    }\n",
       "\n",
       "    .dataframe thead th {\n",
       "        text-align: right;\n",
       "    }\n",
       "</style>\n",
       "<table border=\"1\" class=\"dataframe\">\n",
       "  <thead>\n",
       "    <tr style=\"text-align: right;\">\n",
       "      <th></th>\n",
       "      <th>customer_id</th>\n",
       "      <th>gender</th>\n",
       "      <th>age</th>\n",
       "      <th>income</th>\n",
       "      <th>became_member_on</th>\n",
       "      <th>membership_Tenure</th>\n",
       "    </tr>\n",
       "  </thead>\n",
       "  <tbody>\n",
       "    <tr>\n",
       "      <th>0</th>\n",
       "      <td>0610b486422d4921ae7d2bf64640c50b</td>\n",
       "      <td>F</td>\n",
       "      <td>55</td>\n",
       "      <td>112000.0</td>\n",
       "      <td>2017-07-15</td>\n",
       "      <td>376</td>\n",
       "    </tr>\n",
       "    <tr>\n",
       "      <th>1</th>\n",
       "      <td>78afa995795e4d85b5d9ceeca43f5fef</td>\n",
       "      <td>F</td>\n",
       "      <td>75</td>\n",
       "      <td>100000.0</td>\n",
       "      <td>2017-05-09</td>\n",
       "      <td>443</td>\n",
       "    </tr>\n",
       "    <tr>\n",
       "      <th>2</th>\n",
       "      <td>e2127556f4f64592b11af22de27a7932</td>\n",
       "      <td>M</td>\n",
       "      <td>68</td>\n",
       "      <td>70000.0</td>\n",
       "      <td>2018-04-26</td>\n",
       "      <td>91</td>\n",
       "    </tr>\n",
       "    <tr>\n",
       "      <th>3</th>\n",
       "      <td>389bc3fa690240e798340f5a15918d5c</td>\n",
       "      <td>M</td>\n",
       "      <td>65</td>\n",
       "      <td>53000.0</td>\n",
       "      <td>2018-02-09</td>\n",
       "      <td>167</td>\n",
       "    </tr>\n",
       "    <tr>\n",
       "      <th>4</th>\n",
       "      <td>2eeac8d8feae4a8cad5a6af0499a211d</td>\n",
       "      <td>M</td>\n",
       "      <td>58</td>\n",
       "      <td>51000.0</td>\n",
       "      <td>2017-11-11</td>\n",
       "      <td>257</td>\n",
       "    </tr>\n",
       "  </tbody>\n",
       "</table>\n",
       "</div>"
      ],
      "text/plain": [
       "                        customer_id gender  age    income became_member_on  \\\n",
       "0  0610b486422d4921ae7d2bf64640c50b      F   55  112000.0       2017-07-15   \n",
       "1  78afa995795e4d85b5d9ceeca43f5fef      F   75  100000.0       2017-05-09   \n",
       "2  e2127556f4f64592b11af22de27a7932      M   68   70000.0       2018-04-26   \n",
       "3  389bc3fa690240e798340f5a15918d5c      M   65   53000.0       2018-02-09   \n",
       "4  2eeac8d8feae4a8cad5a6af0499a211d      M   58   51000.0       2017-11-11   \n",
       "\n",
       "   membership_Tenure  \n",
       "0                376  \n",
       "1                443  \n",
       "2                 91  \n",
       "3                167  \n",
       "4                257  "
      ]
     },
     "execution_count": 16,
     "metadata": {},
     "output_type": "execute_result"
    }
   ],
   "source": [
    "profile = profile.rename(columns = {'id': 'customer_id'})\n",
    "columns_order = ['customer_id', 'gender', 'age', 'income', 'became_member_on', 'membership_Tenure']\n",
    "profile = profile.reindex(columns = columns_order)\n",
    "profile = profile.reset_index(drop=True)\n",
    "profile.head()"
   ]
  },
  {
   "cell_type": "code",
   "execution_count": 17,
   "metadata": {},
   "outputs": [
    {
     "data": {
      "image/png": "[encoded data removed]",
      "text/plain": [
       "<Figure size 720x360 with 1 Axes>"
      ]
     },
     "metadata": {},
     "output_type": "display_data"
    }
   ],
   "source": [
    "\"\"\"Customer income distribution in 10,0000 bands\"\"\"\n",
    "\n",
    "\n",
    "income_Distr=profile.groupby(round(profile.income,-4))['customer_id'].count()\n",
    "income_Distr_P=(income_Distr/income_Distr.sum()) ###.map(lambda n: '{:,.1%}'.format(n))\n",
    "\n",
    "plot_bar(data=income_Distr_P,title='AVG income Distribution',xlabel='Avg income', ylabel='% ')"
   ]
  },
  {
   "cell_type": "code",
   "execution_count": 18,
   "metadata": {},
   "outputs": [
    {
     "data": {
      "image/png": "[encoded data removed]",
      "text/plain": [
       "<Figure size 720x360 with 1 Axes>"
      ]
     },
     "metadata": {},
     "output_type": "display_data"
    }
   ],
   "source": [
    " \"\"\"Customer Age Distribution in 5 yrs Bands\"\"\"\n",
    "Customer_Age_Distr=profile.groupby(round(profile.age/5,0)*5)['customer_id'].count()\n",
    "InCustomer_Age_Distr_P=(Customer_Age_Distr/Customer_Age_Distr.sum()) ###.map(lambda n: '{:,.1%}'.format(n))\n",
    "\n",
    "plot_bar(data=InCustomer_Age_Distr_P,title='AVG Age Distribution',xlabel='Avg Age', ylabel='% Customers ')"
   ]
  },
  {
   "cell_type": "code",
   "execution_count": 19,
   "metadata": {},
   "outputs": [
    {
     "data": {
      "image/png": "[encoded data removed]",
      "text/plain": [
       "<Figure size 720x360 with 1 Axes>"
      ]
     },
     "metadata": {},
     "output_type": "display_data"
    }
   ],
   "source": [
    "\"\"\"Membership Year Distribution\"\"\"\n",
    "\n",
    "Membership_Year=profile.groupby(profile['became_member_on'].dt.to_period('Y'))['customer_id'].count()\n",
    "Membership_Year_P=(Membership_Year/Membership_Year.sum()) ###.map(lambda n: '{:,.1%}'.format(n))\n",
    "\n",
    "plot_bar(data=Membership_Year_P,title='Customer Connection Year',xlabel='Year', ylabel='% Customers ')"
   ]
  },
  {
   "cell_type": "markdown",
   "metadata": {},
   "source": [
    "### Transcript data - events\n",
    "This is customer transaction/event Data "
   ]
  },
  {
   "cell_type": "code",
   "execution_count": 20,
   "metadata": {},
   "outputs": [
    {
     "data": {
      "text/html": [
       "<div>\n",
       "<style scoped>\n",
       "    .dataframe tbody tr th:only-of-type {\n",
       "        vertical-align: middle;\n",
       "    }\n",
       "\n",
       "    .dataframe tbody tr th {\n",
       "        vertical-align: top;\n",
       "    }\n",
       "\n",
       "    .dataframe thead th {\n",
       "        text-align: right;\n",
       "    }\n",
       "</style>\n",
       "<table border=\"1\" class=\"dataframe\">\n",
       "  <thead>\n",
       "    <tr style=\"text-align: right;\">\n",
       "      <th></th>\n",
       "      <th>person</th>\n",
       "      <th>event</th>\n",
       "      <th>value</th>\n",
       "      <th>time</th>\n",
       "    </tr>\n",
       "  </thead>\n",
       "  <tbody>\n",
       "    <tr>\n",
       "      <th>0</th>\n",
       "      <td>78afa995795e4d85b5d9ceeca43f5fef</td>\n",
       "      <td>offer received</td>\n",
       "      <td>{'offer id': '9b98b8c7a33c4b65b9aebfe6a799e6d9'}</td>\n",
       "      <td>0</td>\n",
       "    </tr>\n",
       "    <tr>\n",
       "      <th>1</th>\n",
       "      <td>a03223e636434f42ac4c3df47e8bac43</td>\n",
       "      <td>offer received</td>\n",
       "      <td>{'offer id': '0b1e1539f2cc45b7b9fa7c272da2e1d7'}</td>\n",
       "      <td>0</td>\n",
       "    </tr>\n",
       "    <tr>\n",
       "      <th>2</th>\n",
       "      <td>e2127556f4f64592b11af22de27a7932</td>\n",
       "      <td>offer received</td>\n",
       "      <td>{'offer id': '2906b810c7d4411798c6938adc9daaa5'}</td>\n",
       "      <td>0</td>\n",
       "    </tr>\n",
       "    <tr>\n",
       "      <th>3</th>\n",
       "      <td>8ec6ce2a7e7949b1bf142def7d0e0586</td>\n",
       "      <td>offer received</td>\n",
       "      <td>{'offer id': 'fafdcd668e3743c1bb461111dcafc2a4'}</td>\n",
       "      <td>0</td>\n",
       "    </tr>\n",
       "    <tr>\n",
       "      <th>4</th>\n",
       "      <td>68617ca6246f4fbc85e91a2a49552598</td>\n",
       "      <td>offer received</td>\n",
       "      <td>{'offer id': '4d5c57ea9a6940dd891ad53e9dbe8da0'}</td>\n",
       "      <td>0</td>\n",
       "    </tr>\n",
       "    <tr>\n",
       "      <th>5</th>\n",
       "      <td>389bc3fa690240e798340f5a15918d5c</td>\n",
       "      <td>offer received</td>\n",
       "      <td>{'offer id': 'f19421c1d4aa40978ebb69ca19b0e20d'}</td>\n",
       "      <td>0</td>\n",
       "    </tr>\n",
       "    <tr>\n",
       "      <th>6</th>\n",
       "      <td>c4863c7985cf408faee930f111475da3</td>\n",
       "      <td>offer received</td>\n",
       "      <td>{'offer id': '2298d6c36e964ae4a3e7e9706d1fb8c2'}</td>\n",
       "      <td>0</td>\n",
       "    </tr>\n",
       "  </tbody>\n",
       "</table>\n",
       "</div>"
      ],
      "text/plain": [
       "                             person           event  \\\n",
       "0  78afa995795e4d85b5d9ceeca43f5fef  offer received   \n",
       "1  a03223e636434f42ac4c3df47e8bac43  offer received   \n",
       "2  e2127556f4f64592b11af22de27a7932  offer received   \n",
       "3  8ec6ce2a7e7949b1bf142def7d0e0586  offer received   \n",
       "4  68617ca6246f4fbc85e91a2a49552598  offer received   \n",
       "5  389bc3fa690240e798340f5a15918d5c  offer received   \n",
       "6  c4863c7985cf408faee930f111475da3  offer received   \n",
       "\n",
       "                                              value  time  \n",
       "0  {'offer id': '9b98b8c7a33c4b65b9aebfe6a799e6d9'}     0  \n",
       "1  {'offer id': '0b1e1539f2cc45b7b9fa7c272da2e1d7'}     0  \n",
       "2  {'offer id': '2906b810c7d4411798c6938adc9daaa5'}     0  \n",
       "3  {'offer id': 'fafdcd668e3743c1bb461111dcafc2a4'}     0  \n",
       "4  {'offer id': '4d5c57ea9a6940dd891ad53e9dbe8da0'}     0  \n",
       "5  {'offer id': 'f19421c1d4aa40978ebb69ca19b0e20d'}     0  \n",
       "6  {'offer id': '2298d6c36e964ae4a3e7e9706d1fb8c2'}     0  "
      ]
     },
     "execution_count": 20,
     "metadata": {},
     "output_type": "execute_result"
    }
   ],
   "source": [
    "transcript.head(7)"
   ]
  },
  {
   "cell_type": "code",
   "execution_count": 21,
   "metadata": {},
   "outputs": [
    {
     "data": {
      "text/plain": [
       "array(['offer received', 'offer viewed', 'transaction', 'offer completed'],\n",
       "      dtype=object)"
      ]
     },
     "execution_count": 21,
     "metadata": {},
     "output_type": "execute_result"
    }
   ],
   "source": [
    "\"\"\"unique events types\"\"\"\n",
    "transcript['event'].unique()"
   ]
  },
  {
   "cell_type": "code",
   "execution_count": 22,
   "metadata": {},
   "outputs": [
    {
     "data": {
      "text/plain": [
       "transaction        138953\n",
       "offer received      76277\n",
       "offer viewed        57725\n",
       "offer completed     33579\n",
       "Name: event, dtype: int64"
      ]
     },
     "execution_count": 22,
     "metadata": {},
     "output_type": "execute_result"
    }
   ],
   "source": [
    "\"\"\"number of each events\"\"\"\n",
    "transcript['event'].value_counts()"
   ]
  },
  {
   "cell_type": "code",
   "execution_count": 23,
   "metadata": {},
   "outputs": [
    {
     "name": "stdout",
     "output_type": "stream",
     "text": [
      "17000 \n",
      " 14825\n"
     ]
    }
   ],
   "source": [
    "print(transcript.person.nunique() ,\"\\n\", profile.customer_id.nunique()) "
   ]
  },
  {
   "cell_type": "code",
   "execution_count": 24,
   "metadata": {},
   "outputs": [
    {
     "ename": "SyntaxError",
     "evalue": "EOL while scanning string literal (<ipython-input-24-003dc97c44d6>, line 1)",
     "output_type": "error",
     "traceback": [
      "\u001b[0;36m  File \u001b[0;32m\"<ipython-input-24-003dc97c44d6>\"\u001b[0;36m, line \u001b[0;32m1\u001b[0m\n\u001b[0;31m    \"\"\"\"Since we droped 13% customers , only keep the one remained\"\"\"\"\u001b[0m\n\u001b[0m                                                                      ^\u001b[0m\n\u001b[0;31mSyntaxError\u001b[0m\u001b[0;31m:\u001b[0m EOL while scanning string literal\n"
     ]
    }
   ],
   "source": [
    "\"\"\"\"Since we droped 13% customers , only keep the one remained\"\"\"\"\n",
    "Trans_0 = transcript['person'].isin(profile['customer_id'])\n",
    "transcript = transcript[Trans_0]\n",
    "print(len(transcript))\n",
    "print(transcript.person.nunique())\n",
    "transcript.head(7)"
   ]
  },
  {
   "cell_type": "markdown",
   "metadata": {},
   "source": [
    "Lets Explore Customer Transaction behavior"
   ]
  },
  {
   "cell_type": "code",
   "execution_count": null,
   "metadata": {},
   "outputs": [],
   "source": [
    " transcript[transcript['event']=='transaction']"
   ]
  },
  {
   "cell_type": "code",
   "execution_count": null,
   "metadata": {},
   "outputs": [],
   "source": [
    "Expenditure = transcript[transcript['event']=='transaction']"
   ]
  },
  {
   "cell_type": "code",
   "execution_count": null,
   "metadata": {},
   "outputs": [],
   "source": [
    "Expenditure['amount'] = Expenditure['value'].apply(lambda x: list(x.values())[0])"
   ]
  },
  {
   "cell_type": "code",
   "execution_count": null,
   "metadata": {},
   "outputs": [],
   "source": [
    "Expenditure"
   ]
  },
  {
   "cell_type": "code",
   "execution_count": null,
   "metadata": {},
   "outputs": [],
   "source": [
    "Expenditure = transcript[transcript['event']=='transaction']\n",
    "\n",
    "Expenditure['amount'] = Expenditure['value'].apply(lambda x: list(x.values())[0])\n",
    "\n",
    "Expenditure = Expenditure.drop(['value', 'event'], axis = 1)\n",
    "\n",
    "Expenditure = Expenditure.rename(columns = {'person': 'customer_id'})\n",
    "\n",
    "Expenditure = Expenditure.reset_index(drop=True)\n",
    "\n",
    "Expenditure.head()"
   ]
  },
  {
   "cell_type": "code",
   "execution_count": null,
   "metadata": {},
   "outputs": [],
   "source": [
    "Expenditure = pd.merge(Expenditure, profile[['customer_id','gender','age','income']], how='left', on='customer_id')\n",
    "Expenditure['income']=round(profile.income,-4)\n",
    "Expenditure['age']=round(profile.age/5,0)*5"
   ]
  },
  {
   "cell_type": "code",
   "execution_count": null,
   "metadata": {},
   "outputs": [],
   "source": [
    "\"\"\"AVG SPEND based on Gender\"\"\"\n",
    "Ag_spend=Expenditure.groupby('gender').amount.mean().sort_values()\n",
    "\n",
    "Ag_spend.plot(kind='bar', rot=0,color='tab:green',figsize=[5,3],grid=False , title='AVG SPEND')"
   ]
  },
  {
   "cell_type": "code",
   "execution_count": null,
   "metadata": {},
   "outputs": [],
   "source": [
    "\"\"\"AVG SPEND based on Income\"\"\"\n",
    "Ag_spend=Expenditure.groupby('income').amount.mean()#.sort_values()\n",
    "\n",
    "Ag_spend.plot(kind='bar', rot=0, color='tab:green',figsize=[10,3],grid=False , title='AVG SPEND',fontsize=10)\n"
   ]
  },
  {
   "cell_type": "code",
   "execution_count": null,
   "metadata": {},
   "outputs": [],
   "source": [
    "\"\"\"AVG SPEND based on Age\"\"\"\n",
    "Ag_spend=Expenditure.groupby('age').amount.mean() #.sort_values()\n",
    "\n",
    "Ag_spend.plot(kind='bar', rot=0,  color='tab:green',figsize=[10,3],grid=False , title='AVG SPEND',fontsize=10)\n"
   ]
  },
  {
   "cell_type": "code",
   "execution_count": null,
   "metadata": {},
   "outputs": [],
   "source": [
    "\"\"\"unpack information in 'value' column\"\"\"\n",
    "values = transcript['value'].apply(pd.Series)\n",
    "values.offer_id.fillna(values['offer id'], inplace=True)\n",
    "transcript = pd.concat([transcript, values], axis=1)\n",
    "transcript.head()"
   ]
  },
  {
   "cell_type": "code",
   "execution_count": null,
   "metadata": {},
   "outputs": [],
   "source": [
    "\"\"\"calculate number of offers received\"\"\" \n",
    "Offer_count = transcript[transcript['event']=='offer received'].groupby('person').count().reset_index()\n",
    "Offer_count.rename(columns={'offer_id':'Offer_count'},inplace=True)\n",
    "transcript = pd.merge(transcript, Offer_count[['person', 'Offer_count']], how='left', on='person')\n",
    "transcript.head()"
   ]
  },
  {
   "cell_type": "code",
   "execution_count": null,
   "metadata": {},
   "outputs": [],
   "source": [
    "\"\"\"convert event_types categorical variable into indicator variables\"\"\"\n",
    "event_types = pd.get_dummies(transcript.event)\n",
    "transcript = pd.concat([transcript, event_types], axis=1)\n",
    "transcript.head()"
   ]
  },
  {
   "cell_type": "code",
   "execution_count": null,
   "metadata": {},
   "outputs": [],
   "source": [
    "\"\"\"drop and rename columns\"\"\"\n",
    "transcript.drop(['offer id', 'value', 'reward'], axis=1, inplace=True)\n",
    "transcript.rename(columns={'person':'customer_id'},inplace=True)\n",
    "transcript.head(3)"
   ]
  },
  {
   "cell_type": "code",
   "execution_count": null,
   "metadata": {},
   "outputs": [],
   "source": [
    "\"\"\"Explore Single customer data\"\"\"\n",
    "transcript[transcript['customer_id']=='e2127556f4f64592b11af22de27a7932']"
   ]
  },
  {
   "cell_type": "code",
   "execution_count": null,
   "metadata": {},
   "outputs": [],
   "source": [
    "\"\"\"Merge transcript and portfolio Dataframes using Offer_Id\"\"\"\n",
    "\n",
    "starbucks_df = pd.merge(transcript, portfolio, how='left', on='offer_id')\n",
    "starbucks_df.groupby(['offer_type', 'event']).customer_id.count()"
   ]
  },
  {
   "cell_type": "code",
   "execution_count": null,
   "metadata": {},
   "outputs": [],
   "source": [
    "starbucks_df.head()"
   ]
  },
  {
   "cell_type": "code",
   "execution_count": null,
   "metadata": {},
   "outputs": [],
   "source": [
    "\"\"\"Plot Offers to get Status count for each offer\"\"\"\n",
    "events_by_offer_type = sns.factorplot(data=starbucks_df[starbucks_df['event']!='transaction'], x='offer_type',\n",
    "                                   kind='count', hue='event', aspect=1.5,color='tab:orange')"
   ]
  },
  {
   "cell_type": "markdown",
   "metadata": {},
   "source": [
    "### Data Prep"
   ]
  },
  {
   "cell_type": "markdown",
   "metadata": {},
   "source": [
    "define which outcomes can be classified as success/Failure  \n",
    "As BOGO and discount offers have 'offer completed' events while informational offers have not,\n",
    "prepare data for the offer types separately, starting out with BOGO and discount offers.\n",
    "\n",
    "- BOGO and Discount Offers Status\n",
    "1. **successful offer**: offer received → viewed → transaction(s) → offer completed\n",
    "2. **ineffective offer**: offer received → viewed\n",
    "3. **unviewed offer**: offer received\n",
    "4. **unviewed success**: offer received → transaction(s) → offer completed"
   ]
  },
  {
   "cell_type": "code",
   "execution_count": null,
   "metadata": {},
   "outputs": [],
   "source": [
    "def get_offer_completion(df):\n",
    "    '''\n",
    "    cleans dataframe for further analysis based on offer completion\n",
    "    \n",
    "    INPUT:\n",
    "    df - the dataframe to be cleaned\n",
    "    \n",
    "    OUTPUT:\n",
    "    starbucks_df - the cleaned dataframe\n",
    "    \n",
    "    ''' \n",
    "    pd.options.mode.chained_assignment = None\n",
    "    \n",
    "    \"\"\" identify success cases in 'offer completed' rows \"\"\"\n",
    "\n",
    "    completed_offer = df[['customer_id', 'event', 'time', 'offer_id', 'Offer_count']].sort_values(['customer_id','time'])\n",
    "    completed_offer = completed_offer[(completed_offer['event']=='offer viewed') | (completed_offer['event']=='offer completed')]\n",
    "    \n",
    "    \"\"\"shift() - what this does now shifts first row to next row and put as first row as NaN. way it performs depends on condition.\n",
    "      Using this we can filter groups based on customer id and offer_id, and apply shift() to have reference offer_id in column previous_offer_id\n",
    "     this is helpful when filtering based on offer completed, so that we get success cond, where offer is completed and that is viewed \"\"\"\n",
    "    completed_offer['previous_offer_id'] = completed_offer.groupby(['customer_id', 'offer_id'])['offer_id'].shift()\n",
    "    \n",
    "    \"\"\"success if offer is completed and is viewed then 1 else 0\"\"\"\n",
    "    completed_offer['success'] = np.where((completed_offer['event'] == 'offer completed')\n",
    "                                           & (completed_offer['previous_offer_id'] == completed_offer['offer_id']),\n",
    "                                           1, 0)\n",
    "    \"\"\"success withought being viewed if offer is completed but not viewed then 1 or else 0\"\"\"\n",
    "    completed_offer['success_notviewed'] = np.where((completed_offer['event'] == 'offer completed')\n",
    "                                                    & (completed_offer['previous_offer_id'].isna()),\n",
    "                                                    1, 0)\n",
    "    completed_offer.drop(['previous_offer_id'], axis=1, inplace=True)\n",
    "    \n",
    "    \"\"\"re-include 'offer received' rows\"\"\"\n",
    "    received_offers = df[['customer_id', 'event', 'time', 'offer_id', 'Offer_count']][df['event']=='offer received'].sort_values(['customer_id','time'])\n",
    "    \n",
    "    together = received_offers.append(completed_offer).sort_values(['customer_id','time'])\n",
    "    together = together.sort_values(['customer_id','time'])\n",
    "    \n",
    "    \"\"\"transmit information from 'offer completed' to corresponding 'offer received' rows\"\"\"\n",
    "    successes = together[(together['event']=='offer received') | (together['event']=='offer completed')]\n",
    "    successes['success'] = successes.groupby(['customer_id', 'offer_id'])['success'].bfill()\n",
    "    successes['success_notviewed'] = successes.groupby(['customer_id', 'offer_id'])['success_notviewed'].bfill()\n",
    "    result = successes[successes['event']=='offer received']\n",
    "    \n",
    "    \"\"\"classify remaining offers as failures and fill missings\"\"\"\n",
    "    result['failure'] = np.where((result['success'].isna()) & (result['success_notviewed'].isna()), 1, 0)\n",
    "    # fill missing values with 0\n",
    "    result['success'] = np.where(result['success'].isna(), 0, result['success'])\n",
    "    \n",
    "    result['success'] = result['success'].astype('int')\n",
    "    result['success_notviewed'] = np.where(result['success_notviewed'].isna(), 0, result['success_notviewed'])\n",
    "    result['success_notviewed'] = result['success_notviewed'].astype('int')\n",
    "    \n",
    "    \"\"\"build categorical outcome column\"\"\"\n",
    "    result['outcome'] = np.where(result['success'] == 1, 'success',\n",
    "                                 np.where(result['success_notviewed'] == 1, 'unviewed success', 'failure'))\n",
    "\n",
    "    outcome_map = {'failure': 0, 'unviewed success': 1, 'success': 2}\n",
    "    result['outcome_factor'] = result['outcome'].map(outcome_map)\n",
    "    \n",
    "    \"\"\"add customer and offer information\"\"\" \n",
    "    starbucks_df = pd.merge(result, portfolio, how='left', on='offer_id')\n",
    "    starbucks_df = pd.merge(starbucks_df, profile, how='left', on='customer_id')\n",
    "    starbucks_df.drop(['event', 'became_member_on'], axis=1, inplace=True)\n",
    "    \n",
    "    pd.options.mode.chained_assignment = \"warn\"\n",
    "    \n",
    "    return starbucks_df"
   ]
  },
  {
   "cell_type": "code",
   "execution_count": null,
   "metadata": {},
   "outputs": [],
   "source": [
    "starbucks_df"
   ]
  },
  {
   "cell_type": "code",
   "execution_count": null,
   "metadata": {},
   "outputs": [],
   "source": [
    "bogo = starbucks_df[starbucks_df['offer_type']=='bogo']\n",
    "discount = starbucks_df[starbucks_df['offer_type']=='discount']\n",
    "bogo_discount_notcleaned = bogo.append(discount)"
   ]
  },
  {
   "cell_type": "code",
   "execution_count": null,
   "metadata": {},
   "outputs": [],
   "source": [
    "bogo_cleaned = get_offer_completion(bogo)\n",
    "discount_cleaned = get_offer_completion(discount)\n",
    "bogo_discount = bogo_cleaned.append(discount_cleaned)\n",
    "bogo_discount.head(10)"
   ]
  },
  {
   "cell_type": "code",
   "execution_count": null,
   "metadata": {},
   "outputs": [],
   "source": [
    "def get_offer_info_tranx(df):\n",
    "    '''\n",
    "    cleans dataframe for further analysis based on transactions within validity period\n",
    "    \n",
    "    INPUT:\n",
    "    df - the dataframe to be cleaned\n",
    "    \n",
    "    OUTPUT:\n",
    "    temp3 - the cleaned dataframe\n",
    "    \n",
    "    ''' \n",
    "    temp3 = df.sort_values(['customer_id','time'])\n",
    "\n",
    "    \"\"\"calculate remaining time for offers\"\"\"\n",
    "    temp3['duration_hrs'] = temp3.duration * 24\n",
    "    \n",
    "    \"\"\" if offer recieved then temp3['time'] + temp3['duration_hrs'] or nan \"\"\"\n",
    "    temp3['end_time'] = np.where(temp3['event']=='offer received', temp3['time'] + temp3['duration_hrs'], np.nan)\n",
    "    temp3['end_time'] = temp3.groupby('customer_id')['end_time'].ffill()\n",
    "    temp3['remaining'] = temp3['end_time'] - temp3.time\n",
    "    \n",
    "    temp3['offer'] = np.where((temp3['event']=='transaction') & (temp3['remaining']>=0), temp3['offer'].ffill(), temp3.offer)\n",
    "\n",
    "    \"\"\" get rid of all transactions that do not belong to an offer\"\"\"\n",
    "    temp3 = temp3[-temp3['offer'].isna()]\n",
    "\n",
    "\n",
    "    \"\"\"calculate transaction sum during offer validity period using transactions and offer viewed\"\"\"\n",
    "    temp3_rest = temp3[(temp3['event']=='offer viewed')|(temp3['event']=='transaction')]\n",
    "    uff = pd.DataFrame(temp3_rest.groupby(['customer_id','offer'])['amount'].sum())\n",
    "    uff.rename(columns={'amount':'sum'},inplace=True)\n",
    "    temp3_rest_sum = pd.merge(temp3_rest, uff, how='left', on=['customer_id','offer'])\n",
    "    temp3_rest_sum['amount'] = np.where(temp3_rest_sum['event']=='offer viewed', temp3_rest_sum['sum'], temp3_rest_sum['amount'])\n",
    "    temp3 = temp3[temp3['event']=='offer received'].append(temp3_rest_sum).sort_values(['customer_id','time'])\n",
    "    temp3 = temp3.drop(columns=['duration_hrs', 'end_time', 'remaining', 'sum'])\n",
    "\n",
    "    \"\"\"\"transfer transaction sum to 'offer received' rows\"\"\"\n",
    "    temp3 = temp3[-(temp3['event']=='transaction')]\n",
    "    temp3['amount'] = temp3.groupby(['customer_id','offer'])['amount'].shift(-1)\n",
    "    temp3 = temp3[temp3['event']=='offer received']\n",
    "    temp3['amount'] = temp3['amount'].fillna(0)\n",
    "    \n",
    "    \"\"\"\"add success indicator\"\"\" \n",
    "    temp3['success'] = np.where(temp3['amount']>0,1,0)\n",
    "    temp3['success_notviewed'] = -99\n",
    "    temp3['failure'] = -99\n",
    "    temp3['outcome'] = -99\n",
    "    temp3['outcome_factor'] = -99\n",
    "    \n",
    "    \"\"\"add customer profile\"\"\"\n",
    "    temp3 = pd.merge(temp3, profile, how='left', on='customer_id')\n",
    "    temp3.drop(['event', 'became_member_on'], axis=1, inplace=True)\n",
    "\n",
    "    return temp3"
   ]
  },
  {
   "cell_type": "code",
   "execution_count": null,
   "metadata": {},
   "outputs": [],
   "source": [
    "info = starbucks_df[(starbucks_df['offer_type']=='informational') |(starbucks_df['event']=='transaction')]"
   ]
  },
  {
   "cell_type": "code",
   "execution_count": null,
   "metadata": {},
   "outputs": [],
   "source": [
    "info_cleaned = get_offer_info_tranx(info)\n",
    "info_cleaned.head(10)"
   ]
  },
  {
   "cell_type": "markdown",
   "metadata": {},
   "source": [
    "Merge data set to be used to build classification model."
   ]
  },
  {
   "cell_type": "code",
   "execution_count": null,
   "metadata": {},
   "outputs": [],
   "source": [
    "info_test = info_cleaned.drop(columns=['amount'])\n",
    "starbucks_cl_df = bogo_discount.append(info_test)\n",
    "starbucks_cl_df.head()"
   ]
  },
  {
   "cell_type": "code",
   "execution_count": null,
   "metadata": {},
   "outputs": [],
   "source": [
    "starbucks_cl_df=starbucks_cl_df.fillna(0);"
   ]
  },
  {
   "cell_type": "code",
   "execution_count": null,
   "metadata": {
    "scrolled": true
   },
   "outputs": [],
   "source": [
    "starbucks_cl_df.info()"
   ]
  },
  {
   "cell_type": "markdown",
   "metadata": {},
   "source": [
    "### offer perfomance"
   ]
  },
  {
   "cell_type": "code",
   "execution_count": null,
   "metadata": {},
   "outputs": [],
   "source": [
    "fig, ax = plt.subplots(figsize=(12,6))\n",
    "sns.countplot(x=\"offer_type\", hue=\"event\", data=bogo_discount_notcleaned, palette=\"pastel\")\n",
    "plt.title(\"BOGO vs. discount offer Status count\\n\", fontsize=16);"
   ]
  },
  {
   "cell_type": "code",
   "execution_count": null,
   "metadata": {},
   "outputs": [],
   "source": [
    "def event_counts(df):\n",
    "    \"\"\"\n",
    "    output:\n",
    "    returns the counts of each individual event\n",
    "    Input:\n",
    "    df: dataframe\n",
    "    \"\"\"\n",
    "    events = df['event'].unique()\n",
    "    counts = []\n",
    "    for event in events:\n",
    "        count = len(df[df['event'] == event])\n",
    "        yield count"
   ]
  },
  {
   "cell_type": "code",
   "execution_count": null,
   "metadata": {},
   "outputs": [],
   "source": [
    "\"\"\"BOGO offer status counts\"\"\"\n",
    "bogo_received, bogo_viewed, bogo_completed = event_counts(bogo)\n",
    "\n",
    "\"\"\"discount offer status count\"\"\"\n",
    "discount_received, discount_viewed, discount_completed = event_counts(discount)"
   ]
  },
  {
   "cell_type": "code",
   "execution_count": null,
   "metadata": {},
   "outputs": [],
   "source": [
    "labels = ['completed/received', 'viewed/received', 'completed/viewed']\n",
    "bogo_performance = [bogo_completed/bogo_received, bogo_viewed/bogo_received, bogo_completed/bogo_viewed]\n",
    "discount_performance = [discount_completed/discount_received, discount_viewed/discount_received, discount_completed/discount_viewed]\n",
    "\n",
    "x = np.arange(len(labels))  # lable\n",
    "width = 0.2  # bars width\n",
    "\n",
    "fig, ax = plt.subplots(figsize=(12,6))\n",
    "rects1 = ax.bar(x - width/2, bogo_performance, width, label='BOGO')\n",
    "rects2 = ax.bar(x + width/2, discount_performance, width, label='discount')\n",
    "\n",
    "ax.set_ylabel('Percentage')\n",
    "ax.set_title('BOGO and discount offer perfomance\\n', fontsize=12)\n",
    "ax.set_xticks(x)\n",
    "ax.set_xticklabels(labels)\n",
    "ax.legend()\n",
    "\n",
    "def autolabel(rects):\n",
    "    \"\"\"Attach a text label above each bar in *rects*, displaying its height.\"\"\"\n",
    "    for rect in rects:\n",
    "        height = rect.get_height()\n",
    "        ax.annotate('{}%'.format(round(height*100,1)),\n",
    "                    xy=(rect.get_x() + rect.get_width() / 2, height),\n",
    "                    xytext=(0, 3),  # 3 points vertical offset\n",
    "                    textcoords=\"offset points\",\n",
    "                    ha='center', va='bottom')\n",
    "\n",
    "\n",
    "autolabel(rects1)\n",
    "autolabel(rects2)\n",
    "\n",
    "fig.tight_layout()\n",
    "\n",
    "plt.show()"
   ]
  },
  {
   "cell_type": "code",
   "execution_count": null,
   "metadata": {},
   "outputs": [],
   "source": [
    "pd.DataFrame(starbucks_cl_df.groupby(['offer'])['success'].mean()).reset_index().sort_values('success', ascending=False)"
   ]
  },
  {
   "cell_type": "markdown",
   "metadata": {},
   "source": [
    "**This also shows that discount offer is better performing than Bogo offer.**"
   ]
  },
  {
   "cell_type": "markdown",
   "metadata": {},
   "source": [
    "## Predicting Offer Success"
   ]
  },
  {
   "cell_type": "code",
   "execution_count": null,
   "metadata": {},
   "outputs": [],
   "source": [
    "def offer_success_classifier(df, target, target_names,\n",
    "                               model=RandomForestClassifier(max_depth=20, random_state=42)):\n",
    "    '''\n",
    "    Builds classification model\n",
    "    \n",
    "    INPUT:\n",
    "    df - the dataframe to be analyzed\n",
    "    target - the outcome variable\n",
    "    target_names - labels for the target values\n",
    "    model - the model (default: random forest classification with max tree depth of 20, random state of 42)\n",
    "    \n",
    "    OUTPUT:\n",
    "    model - the classification model\n",
    "    \n",
    "    '''\n",
    "    df = df.dropna(how='any', axis=0)\n",
    "    \n",
    "    gender = pd.get_dummies(df.gender)\n",
    "    df = pd.concat([df, gender], axis=1)\n",
    "    \n",
    "    X = df.drop(columns=['customer_id', 'offer_id', 'time', 'offer_type', 'gender','offer',\n",
    "                         'success', 'success_notviewed', 'failure', 'outcome', 'outcome_factor',\n",
    "                        'offer completed','offer received','offer viewed','transaction'])\n",
    "    y = df.pop(target)\n",
    "    \n",
    "    X_train, X_test, y_train, y_test = train_test_split(X, y, test_size = 0.3, random_state=42)\n",
    "    \n",
    "    model = model\n",
    "\n",
    "    model.fit(X_train, y_train)\n",
    "    \n",
    "    model_predictions = model.predict(X_test)\n",
    "    print(classification_report(y_test, model_predictions, target_names=target_names))\n",
    "    \n",
    "    print(\"Overall model accuracy:\\t {}\".format(accuracy_score(y_test, model_predictions)))\n",
    "    \n",
    "    train_probs = model.predict_proba(X_train)\n",
    "    model_probs = model.predict_proba(X_test)\n",
    "    print(\"Train ROC AUC score:\\t {}\".format(roc_auc_score(y_train, train_probs[:, 1])))\n",
    "    print(\"Test ROC AUC score:\\t {}\".format(roc_auc_score(y_test, model_probs[:, 1])))\n",
    "    \n",
    "    return model"
   ]
  },
  {
   "cell_type": "code",
   "execution_count": null,
   "metadata": {},
   "outputs": [],
   "source": [
    "cl_model=offer_success_classifier(starbucks_cl_df, 'success', ['failure', 'success'])"
   ]
  },
  {
   "cell_type": "code",
   "execution_count": null,
   "metadata": {},
   "outputs": [],
   "source": [
    "def most_important_features(df, model):\n",
    "    '''\n",
    "    identifies most important features\n",
    "    \n",
    "    INPUT:\n",
    "    df - the dataframe used to train and test the model\n",
    "    model - the classification model\n",
    "    \n",
    "    OUTPUT:\n",
    "    feat_imp - an ordered dataframe consisting of all features and importance\n",
    "    \n",
    "    '''\n",
    "    df = df.dropna(how='any', axis=0)\n",
    "    \n",
    "    gender = pd.get_dummies(df.gender)\n",
    "    df = pd.concat([df, gender], axis=1)\n",
    "    \n",
    "    X = df.drop(columns=['customer_id', 'offer_id', 'time', 'offer_type', 'gender','offer',\n",
    "                         'success', 'success_notviewed', 'failure', 'outcome', 'outcome_factor',\n",
    "                        'offer completed','offer received','offer viewed','transaction'])\n",
    "    \n",
    "    feat_imp = pd.DataFrame(model.feature_importances_, index=X.columns,\n",
    "                            columns=['importance']).sort_values('importance', ascending=False).reset_index()\n",
    "    feat_imp.rename(columns={'index':'feature'},inplace=True)\n",
    "    \n",
    "    plot = sns.factorplot(data=feat_imp.reset_index(), y='feature', x='importance', kind='bar', aspect=2)\n",
    "    plot.set(title='Feature importance')\n",
    "    \n",
    "    return feat_imp"
   ]
  },
  {
   "cell_type": "code",
   "execution_count": null,
   "metadata": {},
   "outputs": [],
   "source": [
    "most_important_features(starbucks_cl_df, cl_model)"
   ]
  },
  {
   "cell_type": "code",
   "execution_count": null,
   "metadata": {},
   "outputs": [],
   "source": [
    "Success_rate=starbucks_cl_df.groupby('success')['income'].mean()#.sort_values()\n",
    "\n",
    "Success_rate.plot(kind='bar', rot=0,  color='tab:green',figsize=[10,3],grid=False , title='AVG SPEND',fontsize=10)"
   ]
  },
  {
   "cell_type": "code",
   "execution_count": null,
   "metadata": {},
   "outputs": [],
   "source": [
    "starbucks_cl_df.groupby('success')['income'].mean()"
   ]
  },
  {
   "cell_type": "markdown",
   "metadata": {},
   "source": [
    "Offers are more likely to be successful for members with higher incomes."
   ]
  },
  {
   "cell_type": "code",
   "execution_count": null,
   "metadata": {},
   "outputs": [],
   "source": [
    "starbucks_cl_df.groupby(['social'])['success'].mean()"
   ]
  },
  {
   "cell_type": "markdown",
   "metadata": {},
   "source": [
    "Offers are more likely to be successful via the channel 'social'."
   ]
  },
  {
   "cell_type": "markdown",
   "metadata": {},
   "source": [
    "## Conclusion\n",
    "- From this Experiment we see the opportunity to improve Starbucks campaign using ML model by recommending which offer to present to a customer\n",
    "- However to further measure the success there should be control group.\n",
    "- We can keep explore other modeling techniques and algorithms for better improvement.\n",
    "- A deep dive analysis need to be done to understand more the effect of all variable for offer success."
   ]
  }
 ],
 "metadata": {
  "kernelspec": {
   "display_name": "Python 3",
   "language": "python",
   "name": "python3"
  },
  "language_info": {
   "codemirror_mode": {
    "name": "ipython",
    "version": 3
   },
   "file_extension": ".py",
   "mimetype": "text/x-python",
   "name": "python",
   "nbconvert_exporter": "python",
   "pygments_lexer": "ipython3",
   "version": "3.8.8"
  }
 },
 "nbformat": 4,
 "nbformat_minor": 2
}
